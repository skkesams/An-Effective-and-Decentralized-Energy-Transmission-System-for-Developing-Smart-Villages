{
 "cells": [
  {
   "cell_type": "markdown",
   "metadata": {},
   "source": [
    "# Particle Swarm Optimization for finding Cluster Heads\n"
   ]
  },
  {
   "cell_type": "code",
   "execution_count": 1,
   "metadata": {},
   "outputs": [],
   "source": [
    "import numpy as np\n",
    "import random"
   ]
  },
  {
   "cell_type": "code",
   "execution_count": 2,
   "metadata": {},
   "outputs": [],
   "source": [
    "def fitness_function(position):\n",
    "    return ((position[0]- position[1])**2) /2"
   ]
  },
  {
   "cell_type": "code",
   "execution_count": 4,
   "metadata": {},
   "outputs": [],
   "source": [
    "W = 45 \n",
    "c1 = 3\n",
    "c2 = 3\n",
    "target = 0\n",
    "n_iterations = 100\n",
    "target_error = 0.00008\n",
    "n_particles = 15\n",
    "iteration = 0"
   ]
  },
  {
   "cell_type": "code",
   "execution_count": 5,
   "metadata": {},
   "outputs": [],
   "source": [
    "particle_position_vector = np.array([np.array([(-1) ** (bool(random.getrandbits(1))) * random.random()*50, (-1)**(bool(random.getrandbits(1))) * random.random()*50]) for _ in range(n_particles)])\n",
    "pbest_position = particle_position_vector\n",
    "pbest = np.array([float('inf') for _ in range(n_particles)])\n",
    "gbest = float('inf')\n",
    "gbest_position = np.array([float('inf'), float('inf')])\n",
    "velocity_vector = ([np.array([0, 0]) for _ in range(n_particles)])"
   ]
  },
  {
   "cell_type": "code",
   "execution_count": 11,
   "metadata": {},
   "outputs": [
    {
     "name": "stdout",
     "output_type": "stream",
     "text": [
      "The cluster head is located at [ -7.753 , -7.746 ]\n",
      "We got the cluster head in iteration number  100\n",
      "The fitness candidate value is  2.299272556716869e-05\n"
     ]
    }
   ],
   "source": [
    "while iteration < n_iterations:\n",
    "    for i in range(n_particles):\n",
    "        fitness_candidate = fitness_function(particle_position_vector[i])\n",
    "        if(pbest[i] > fitness_candidate):\n",
    "            pbest[i] = fitness_candidate\n",
    "            pbest_position[i] = particle_position_vector[i]\n",
    "        if(gbest > fitness_candidate):\n",
    "            gbest = fitness_candidate\n",
    "            gbest_position = particle_position_vector[i]\n",
    "        if(abs(gbest - target) < target_error):\n",
    "            break\n",
    "    \n",
    "    for i in range(n_particles):\n",
    "        new_velocity = (W*velocity_vector[i]) + (c1*random.random()) * (pbest_position[i] - particle_position_vector[i]) + (c2*random.random()) * (gbest_position-particle_position_vector[i])\n",
    "        new_position = new_velocity + particle_position_vector[i]\n",
    "        particle_position_vector[i] = new_position\n",
    "    iteration = iteration + 1\n",
    "    \n",
    "print(\"The cluster head is located at [\", round(gbest_position[0],3),',',round(gbest_position[1],3),']')\n",
    "print(\"We got the cluster head in iteration number \", iteration )\n",
    "print(\"The fitness candidate value is \"  , fitness_candidate)"
   ]
  },
  {
   "cell_type": "code",
   "execution_count": null,
   "metadata": {},
   "outputs": [],
   "source": []
  },
  {
   "cell_type": "code",
   "execution_count": null,
   "metadata": {},
   "outputs": [],
   "source": []
  },
  {
   "cell_type": "code",
   "execution_count": null,
   "metadata": {},
   "outputs": [],
   "source": []
  },
  {
   "cell_type": "code",
   "execution_count": null,
   "metadata": {},
   "outputs": [],
   "source": []
  }
 ],
 "metadata": {
  "kernelspec": {
   "display_name": "Python 3",
   "language": "python",
   "name": "python3"
  },
  "language_info": {
   "codemirror_mode": {
    "name": "ipython",
    "version": 3
   },
   "file_extension": ".py",
   "mimetype": "text/x-python",
   "name": "python",
   "nbconvert_exporter": "python",
   "pygments_lexer": "ipython3",
   "version": "3.8.5"
  }
 },
 "nbformat": 4,
 "nbformat_minor": 5
}
